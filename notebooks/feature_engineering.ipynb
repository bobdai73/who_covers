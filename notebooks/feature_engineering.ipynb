{
 "cells": [
  {
   "cell_type": "code",
   "execution_count": 1,
   "id": "4091bab6",
   "metadata": {},
   "outputs": [
    {
     "name": "stdout",
     "output_type": "stream",
     "text": [
      "Loaded ../data/processed/game/games_wide_2016_regular.parquet -> games_2016 (alias games_16), shape=(832, 196)\n",
      "Loaded ../data/processed/game/games_wide_2017_regular.parquet -> games_2017 (alias games_17), shape=(834, 196)\n",
      "Loaded ../data/processed/game/games_wide_2018_regular.parquet -> games_2018 (alias games_18), shape=(845, 196)\n",
      "Loaded ../data/processed/game/games_wide_2019_regular.parquet -> games_2019 (alias games_19), shape=(848, 196)\n",
      "Loaded ../data/processed/game/games_wide_2020_regular.parquet -> games_2020 (alias games_20), shape=(542, 196)\n",
      "Loaded ../data/processed/game/games_wide_2021_regular.parquet -> games_2021 (alias games_21), shape=(849, 196)\n",
      "Loaded ../data/processed/game/games_wide_2022_regular.parquet -> games_2022 (alias games_22), shape=(854, 196)\n",
      "Loaded ../data/processed/game/games_wide_2023_regular.parquet -> games_2023 (alias games_23), shape=(868, 196)\n",
      "Loaded ../data/processed/game/games_wide_2024_regular.parquet -> games_2024 (alias games_24), shape=(874, 196)\n",
      "Loaded ../data/processed/game/games_wide_2024_regular.parquet -> games_2024 (alias games_24), shape=(874, 196)\n"
     ]
    }
   ],
   "source": [
    "from pathlib import Path\n",
    "import re\n",
    "import pandas as pd\n",
    "import numpy as np\n",
    "import json\n",
    "import pickle\n",
    "\n",
    "# directory containing game parquet files (relative to this notebook)\n",
    "path = Path('..') / 'data' / 'processed' / 'game'\n",
    "files = sorted(path.glob('*.parquet'))\n",
    "# load exactly one DataFrame per season (keep the first file encountered for each year)\n",
    "games = {}  # maps YYYY -> DataFrame\n",
    "for f in files:\n",
    "    # read parquet first so any I/O/parquet-engine errors surface immediately\n",
    "    df = pd.read_parquet(f)\n",
    "    fname = f.name\n",
    "    m = re.search(r'(19|20)\\d{2}', fname)\n",
    "    if m:\n",
    "        year = m.group(0)\n",
    "    else:\n",
    "        # fallback: use filename without suffix\n",
    "        year = fname.rsplit('.parquet', 1)[0]\n",
    "    # normalize to a 4-digit year string when possible\n",
    "    year_str = year if (isinstance(year, str) and len(str(year)) == 4 and str(year).isdigit()) else str(year)\n",
    "    # if we've already loaded a DataFrame for this season, skip further files\n",
    "    if year_str in games:\n",
    "        # skip duplicates for the same season\n",
    "        continue\n",
    "    # register the DataFrame for this season\n",
    "    games[year_str] = df\n",
    "    # expose short-name globals: games_YY (e.g. games_16) and games_YYYY\n",
    "    short = year_str[-2:] if year_str.isdigit() and len(year_str) == 4 else year_str\n",
    "    globals()[f'games_{year_str}'] = df\n",
    "    globals()[f'games_{short}'] = df\n",
    "    print(f'Loaded {f} -> games_{year_str} (alias games_{short}), shape={df.shape}')\n",
    "# convenience alias: dfs points to the per-season mapping we just built\n",
    "dfs = games\n",
    "# use dfs['2017'] or globals()['games_17'] as needed"
   ]
  }
 ],
 "metadata": {
  "kernelspec": {
   "display_name": "who_covers",
   "language": "python",
   "name": "python3"
  },
  "language_info": {
   "codemirror_mode": {
    "name": "ipython",
    "version": 3
   },
   "file_extension": ".py",
   "mimetype": "text/x-python",
   "name": "python",
   "nbconvert_exporter": "python",
   "pygments_lexer": "ipython3",
   "version": "3.11.13"
  }
 },
 "nbformat": 4,
 "nbformat_minor": 5
}
