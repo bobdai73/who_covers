{
 "cells": [
  {
   "cell_type": "code",
   "execution_count": 2,
   "id": "0ffc43c1-d0dc-4c61-b5dc-7ad0aafdd504",
   "metadata": {},
   "outputs": [],
   "source": [
    "import pandas as pd\n",
    "\n",
    "df_b = pd.read_parquet(\"../data/raw/basic_2017_regular.parquet\")\n",
    "df_a = pd.read_parquet(\"../data/raw/advanced_2017_regular.parquet\")\n",
    "df_g = pd.read_parquet(\"../data/raw/games_2017_regular.parquet\")\n",
    "lines = pd.read_parquet(\"../data/raw/lines_2020_regular.parquet\")"
   ]
  },
  {
   "cell_type": "code",
   "execution_count": 3,
   "id": "63396d06-b436-481a-bb56-a0e3aac52f8b",
   "metadata": {},
   "outputs": [
    {
     "name": "stdout",
     "output_type": "stream",
     "text": [
      "(1658, 58) (1668, 33) (834, 14)\n"
     ]
    }
   ],
   "source": [
    "print(df_a.shape, df_b.shape, df_g.shape)"
   ]
  },
  {
   "cell_type": "code",
   "execution_count": 6,
   "id": "c9d53d86-e896-4b62-a5b7-47e837775cd6",
   "metadata": {},
   "outputs": [
    {
     "data": {
      "text/plain": [
       "array(['Bovada', 'consensus', 'Caesars', 'SugarHouse', 'numberfire',\n",
       "       'William Hill (New Jersey)', 'Caesars (Pennsylvania)'],\n",
       "      dtype=object)"
      ]
     },
     "execution_count": 6,
     "metadata": {},
     "output_type": "execute_result"
    }
   ],
   "source": [
    "lines['provider'].unique()"
   ]
  },
  {
   "cell_type": "code",
   "execution_count": 4,
   "id": "f1900bd2-395a-4a05-9ede-ef3beed16212",
   "metadata": {},
   "outputs": [
    {
     "name": "stdout",
     "output_type": "stream",
     "text": [
      "            game_id  off_passingPlays_explosiveness  \\\n",
      "count  1.658000e+03                     1658.000000   \n",
      "mean   4.009391e+08                        1.643139   \n",
      "std    6.516849e+03                        0.492196   \n",
      "min    4.009338e+08                        0.000000   \n",
      "25%    4.009352e+08                        1.345767   \n",
      "50%    4.009375e+08                        1.599186   \n",
      "75%    4.009419e+08                        1.861500   \n",
      "max    4.010001e+08                        6.887610   \n",
      "\n",
      "       off_passingPlays_successRate  off_passingPlays_totalPPA  \\\n",
      "count                   1658.000000                1658.000000   \n",
      "mean                       0.402059                   7.175910   \n",
      "std                        0.126336                  10.213704   \n",
      "min                        0.000000                 -24.602362   \n",
      "25%                        0.321429                   0.004809   \n",
      "50%                        0.405828                   6.746511   \n",
      "75%                        0.482759                  14.124850   \n",
      "max                        1.000000                  41.164020   \n",
      "\n",
      "       off_passingPlays_ppa  off_rushingPlays_explosiveness  \\\n",
      "count           1658.000000                     1658.000000   \n",
      "mean               0.226369                        0.959843   \n",
      "std                0.368953                        0.324751   \n",
      "min               -1.194201                       -0.431737   \n",
      "25%                0.000306                        0.761210   \n",
      "50%                0.216669                        0.946412   \n",
      "75%                0.438375                        1.133936   \n",
      "max                4.083671                        3.194502   \n",
      "\n",
      "       off_rushingPlays_successRate  off_rushingPlays_totalPPA  \\\n",
      "count                   1658.000000                1658.000000   \n",
      "mean                       0.414826                   3.914344   \n",
      "std                        0.111516                   8.786625   \n",
      "min                        0.074074                 -20.417667   \n",
      "25%                        0.334746                  -2.285925   \n",
      "50%                        0.413793                   2.593060   \n",
      "75%                        0.489687                   8.930194   \n",
      "max                        0.765957                  39.507422   \n",
      "\n",
      "       off_rushingPlays_ppa  off_passingDowns_explosiveness  ...  \\\n",
      "count           1658.000000                     1658.000000  ...   \n",
      "mean               0.080213                        1.837885  ...   \n",
      "std                0.225628                        0.559939  ...   \n",
      "min               -0.785295                        0.000000  ...   \n",
      "25%               -0.067542                        1.479602  ...   \n",
      "50%                0.074290                        1.825356  ...   \n",
      "75%                0.228881                        2.154101  ...   \n",
      "max                0.820903                        5.668322  ...   \n",
      "\n",
      "       def_lineYardsTotal  def_lineYards  def_stuffRate  def_powerSuccess  \\\n",
      "count         1658.000000    1658.000000    1658.000000       1658.000000   \n",
      "mean           106.962606       2.818628       0.203046          0.692151   \n",
      "std             46.986366       0.719953       0.082056          0.273075   \n",
      "min            -13.000000      -0.488889       0.000000          0.000000   \n",
      "25%             74.000000       2.378651       0.142857          0.500000   \n",
      "50%            102.000000       2.887381       0.200000          0.750000   \n",
      "75%            135.000000       3.304861       0.255814          1.000000   \n",
      "max            321.000000       4.829787       0.583333          1.000000   \n",
      "\n",
      "       def_explosiveness  def_successRate  def_totalPPA      def_ppa  \\\n",
      "count        1658.000000      1658.000000   1658.000000  1658.000000   \n",
      "mean            1.216524         0.421731     10.705632     0.146829   \n",
      "std             0.254351         0.092746     13.659102     0.197008   \n",
      "min             0.479472         0.061224    -31.486793    -0.499780   \n",
      "25%             1.051050         0.361602      0.972656     0.013884   \n",
      "50%             1.200452         0.422806     10.118634     0.144641   \n",
      "75%             1.366697         0.481928     20.107513     0.277745   \n",
      "max             2.830088         0.740000     54.101252     1.035132   \n",
      "\n",
      "        def_drives    def_plays  \n",
      "count  1658.000000  1658.000000  \n",
      "mean     12.848613    70.598914  \n",
      "std       2.062248    11.410492  \n",
      "min       6.000000    31.000000  \n",
      "25%      12.000000    63.000000  \n",
      "50%      13.000000    70.000000  \n",
      "75%      14.000000    78.000000  \n",
      "max      22.000000   118.000000  \n",
      "\n",
      "[8 rows x 57 columns]             game_id  defensiveTDs   firstDowns  fumblesLost  fumblesRecovered  \\\n",
      "count  1.668000e+03   1657.000000  1668.000000  1668.000000       1668.000000   \n",
      "mean   4.009391e+08      0.170187    20.343525     0.647482          0.606715   \n",
      "std    6.508567e+03      0.417034     6.069393     0.820669          0.813063   \n",
      "min    4.009338e+08      0.000000     2.000000     0.000000          0.000000   \n",
      "25%    4.009352e+08      0.000000    16.000000     0.000000          0.000000   \n",
      "50%    4.009375e+08      0.000000    20.000000     0.000000          0.000000   \n",
      "75%    4.009448e+08      0.000000    25.000000     1.000000          1.000000   \n",
      "max    4.010001e+08      3.000000    41.000000     5.000000          5.000000   \n",
      "\n",
      "       interceptionTDs  interceptionYards  interceptions  kickReturnTDs  \\\n",
      "count       944.000000         944.000000    1668.000000    1510.000000   \n",
      "mean          0.179025          21.633475       0.855516       0.037748   \n",
      "std           0.412869          27.193724       0.952432       0.204081   \n",
      "min           0.000000         -15.000000       0.000000       0.000000   \n",
      "25%           0.000000           0.000000       0.000000       0.000000   \n",
      "50%           0.000000          11.500000       1.000000       0.000000   \n",
      "75%           0.000000          35.000000       1.000000       0.000000   \n",
      "max           2.000000         152.000000       6.000000       2.000000   \n",
      "\n",
      "       kickReturnYards  ...   rushingTDs  rushingYards        sacks  \\\n",
      "count      1510.000000  ...  1668.000000   1668.000000  1657.000000   \n",
      "mean         67.946358  ...     1.724820    171.465228     2.070911   \n",
      "std          44.990557  ...     1.539851     96.521091     1.793947   \n",
      "min          -2.000000  ...     0.000000    -40.000000     0.000000   \n",
      "25%          34.000000  ...     1.000000    100.000000     1.000000   \n",
      "50%          58.000000  ...     1.000000    157.000000     2.000000   \n",
      "75%          94.000000  ...     3.000000    227.250000     3.000000   \n",
      "max         305.000000  ...     9.000000    569.000000    13.000000   \n",
      "\n",
      "           tackles  tacklesForLoss  totalFumbles   totalYards    turnovers  \\\n",
      "count  1657.000000     1657.000000   1375.000000  1668.000000  1668.000000   \n",
      "mean     40.374170        5.917019      1.565818   396.827938     1.502998   \n",
      "std       9.781181        2.835181      1.141959   125.482994     1.256772   \n",
      "min      13.000000        0.000000      0.000000    21.000000     0.000000   \n",
      "25%      33.000000        4.000000      1.000000   309.750000     1.000000   \n",
      "50%      40.000000        6.000000      1.000000   393.000000     1.000000   \n",
      "75%      47.000000        8.000000      2.000000   479.000000     2.000000   \n",
      "max      74.000000       18.000000      8.000000   815.000000     7.000000   \n",
      "\n",
      "       yardsPerPass  yardsPerRushAttempt  \n",
      "count   1668.000000          1668.000000  \n",
      "mean       7.418285             4.234952  \n",
      "std        2.880582             1.805758  \n",
      "min        0.000000            -1.700000  \n",
      "25%        5.600000             3.000000  \n",
      "50%        7.100000             4.100000  \n",
      "75%        8.800000             5.300000  \n",
      "max       42.000000            10.900000  \n",
      "\n",
      "[8 rows x 31 columns]             game_id  season        week  home_points  away_points\n",
      "count  8.340000e+02   834.0  834.000000   834.000000   834.000000\n",
      "mean   4.009391e+08  2017.0    6.884892    31.459233    24.471223\n",
      "std    6.510520e+03     0.0    4.007638    15.225520    14.214774\n",
      "min    4.009338e+08  2017.0    1.000000     0.000000     0.000000\n",
      "25%    4.009352e+08  2017.0    3.000000    20.000000    14.000000\n",
      "50%    4.009375e+08  2017.0    7.000000    30.000000    23.000000\n",
      "75%    4.009448e+08  2017.0   10.000000    42.000000    34.000000\n",
      "max    4.010001e+08  2017.0   15.000000    77.000000    71.000000\n"
     ]
    }
   ],
   "source": [
    "print(df_a.describe(), df_b.describe(), df_g.describe())"
   ]
  },
  {
   "cell_type": "code",
   "execution_count": 8,
   "id": "4b8ad2a7-7b9b-437d-ae66-0e5582f84d21",
   "metadata": {},
   "outputs": [
    {
     "data": {
      "text/plain": [
       "dtype('int64')"
      ]
     },
     "execution_count": 8,
     "metadata": {},
     "output_type": "execute_result"
    }
   ],
   "source": [
    "df_g['game_id'].dtype"
   ]
  },
  {
   "cell_type": "code",
   "execution_count": 7,
   "id": "714370f9-691a-48ff-9170-b3d384f5b4ed",
   "metadata": {},
   "outputs": [
    {
     "data": {
      "text/plain": [
       "Index(['game_id', 'team', 'off_passingPlays_explosiveness',\n",
       "       'off_passingPlays_successRate', 'off_passingPlays_totalPPA',\n",
       "       'off_passingPlays_ppa', 'off_rushingPlays_explosiveness',\n",
       "       'off_rushingPlays_successRate', 'off_rushingPlays_totalPPA',\n",
       "       'off_rushingPlays_ppa', 'off_passingDowns_explosiveness',\n",
       "       'off_passingDowns_successRate', 'off_passingDowns_ppa',\n",
       "       'off_standardDowns_explosiveness', 'off_standardDowns_successRate',\n",
       "       'off_standardDowns_ppa', 'off_openFieldYardsTotal',\n",
       "       'off_openFieldYards', 'off_secondLevelYardsTotal',\n",
       "       'off_secondLevelYards', 'off_lineYardsTotal', 'off_lineYards',\n",
       "       'off_stuffRate', 'off_powerSuccess', 'off_explosiveness',\n",
       "       'off_successRate', 'off_totalPPA', 'off_ppa', 'off_drives', 'off_plays',\n",
       "       'def_passingPlays_explosiveness', 'def_passingPlays_successRate',\n",
       "       'def_passingPlays_totalPPA', 'def_passingPlays_ppa',\n",
       "       'def_rushingPlays_explosiveness', 'def_rushingPlays_successRate',\n",
       "       'def_rushingPlays_totalPPA', 'def_rushingPlays_ppa',\n",
       "       'def_passingDowns_explosiveness', 'def_passingDowns_successRate',\n",
       "       'def_passingDowns_ppa', 'def_standardDowns_explosiveness',\n",
       "       'def_standardDowns_successRate', 'def_standardDowns_ppa',\n",
       "       'def_openFieldYardsTotal', 'def_openFieldYards',\n",
       "       'def_secondLevelYardsTotal', 'def_secondLevelYards',\n",
       "       'def_lineYardsTotal', 'def_lineYards', 'def_stuffRate',\n",
       "       'def_powerSuccess', 'def_explosiveness', 'def_successRate',\n",
       "       'def_totalPPA', 'def_ppa', 'def_drives', 'def_plays'],\n",
       "      dtype='object')"
      ]
     },
     "execution_count": 7,
     "metadata": {},
     "output_type": "execute_result"
    }
   ],
   "source": [
    "df_a.columns"
   ]
  },
  {
   "cell_type": "code",
   "execution_count": 8,
   "id": "3408ce6d-96d5-4114-9654-02e9c22011ca",
   "metadata": {},
   "outputs": [
    {
     "data": {
      "text/plain": [
       "Index(['game_id', 'team', 'defensiveTDs', 'firstDowns', 'fumblesLost',\n",
       "       'fumblesRecovered', 'interceptionTDs', 'interceptionYards',\n",
       "       'interceptions', 'kickReturnTDs', 'kickReturnYards', 'kickReturns',\n",
       "       'kickingPoints', 'netPassingYards', 'passesDeflected',\n",
       "       'passesIntercepted', 'passingTDs', 'puntReturnTDs', 'puntReturnYards',\n",
       "       'puntReturns', 'qbHurries', 'rushingAttempts', 'rushingTDs',\n",
       "       'rushingYards', 'sacks', 'tackles', 'tacklesForLoss', 'totalFumbles',\n",
       "       'totalYards', 'turnovers', 'yardsPerPass', 'yardsPerRushAttempt',\n",
       "       'team_conference'],\n",
       "      dtype='object')"
      ]
     },
     "execution_count": 8,
     "metadata": {},
     "output_type": "execute_result"
    }
   ],
   "source": [
    "df_b.columns"
   ]
  },
  {
   "cell_type": "code",
   "execution_count": 9,
   "id": "00aad4e5-36b1-4e43-8ea3-32729b81a8ba",
   "metadata": {},
   "outputs": [
    {
     "data": {
      "text/plain": [
       "Index(['game_id', 'season', 'week', 'season_type', 'conference_game',\n",
       "       'neutral_site', 'venue', 'home_team', 'home_points', 'away_team',\n",
       "       'away_points', 'home_conference', 'away_conference', 'start_date'],\n",
       "      dtype='object')"
      ]
     },
     "execution_count": 9,
     "metadata": {},
     "output_type": "execute_result"
    }
   ],
   "source": [
    "df_g.columns"
   ]
  },
  {
   "cell_type": "code",
   "execution_count": 15,
   "id": "944980c0-b521-4907-9ea4-ba9fb4ccbaee",
   "metadata": {},
   "outputs": [
    {
     "data": {
      "text/html": [
       "<div>\n",
       "<style scoped>\n",
       "    .dataframe tbody tr th:only-of-type {\n",
       "        vertical-align: middle;\n",
       "    }\n",
       "\n",
       "    .dataframe tbody tr th {\n",
       "        vertical-align: top;\n",
       "    }\n",
       "\n",
       "    .dataframe thead th {\n",
       "        text-align: right;\n",
       "    }\n",
       "</style>\n",
       "<table border=\"1\" class=\"dataframe\">\n",
       "  <thead>\n",
       "    <tr style=\"text-align: right;\">\n",
       "      <th></th>\n",
       "      <th>game_id</th>\n",
       "      <th>team</th>\n",
       "      <th>off_passingPlays_explosiveness</th>\n",
       "      <th>off_passingPlays_successRate</th>\n",
       "      <th>off_passingPlays_totalPPA</th>\n",
       "      <th>off_passingPlays_ppa</th>\n",
       "      <th>off_rushingPlays_explosiveness</th>\n",
       "      <th>off_rushingPlays_successRate</th>\n",
       "      <th>off_rushingPlays_totalPPA</th>\n",
       "      <th>off_rushingPlays_ppa</th>\n",
       "      <th>...</th>\n",
       "      <th>def_lineYardsTotal</th>\n",
       "      <th>def_lineYards</th>\n",
       "      <th>def_stuffRate</th>\n",
       "      <th>def_powerSuccess</th>\n",
       "      <th>def_explosiveness</th>\n",
       "      <th>def_successRate</th>\n",
       "      <th>def_totalPPA</th>\n",
       "      <th>def_ppa</th>\n",
       "      <th>def_drives</th>\n",
       "      <th>def_plays</th>\n",
       "    </tr>\n",
       "  </thead>\n",
       "  <tbody>\n",
       "    <tr>\n",
       "      <th>1652</th>\n",
       "      <td>400985406</td>\n",
       "      <td>Memphis</td>\n",
       "      <td>1.314514</td>\n",
       "      <td>0.392157</td>\n",
       "      <td>1.621516</td>\n",
       "      <td>0.031794</td>\n",
       "      <td>1.169791</td>\n",
       "      <td>0.454545</td>\n",
       "      <td>2.103586</td>\n",
       "      <td>0.095618</td>\n",
       "      <td>...</td>\n",
       "      <td>145</td>\n",
       "      <td>2.959184</td>\n",
       "      <td>0.224490</td>\n",
       "      <td>0.666667</td>\n",
       "      <td>1.492944</td>\n",
       "      <td>0.439024</td>\n",
       "      <td>23.605613</td>\n",
       "      <td>0.287873</td>\n",
       "      <td>13</td>\n",
       "      <td>82</td>\n",
       "    </tr>\n",
       "    <tr>\n",
       "      <th>1653</th>\n",
       "      <td>400985406</td>\n",
       "      <td>UCF</td>\n",
       "      <td>1.757090</td>\n",
       "      <td>0.419355</td>\n",
       "      <td>10.504720</td>\n",
       "      <td>0.338862</td>\n",
       "      <td>1.504505</td>\n",
       "      <td>0.428571</td>\n",
       "      <td>13.791699</td>\n",
       "      <td>0.281463</td>\n",
       "      <td>...</td>\n",
       "      <td>50</td>\n",
       "      <td>2.268182</td>\n",
       "      <td>0.272727</td>\n",
       "      <td>0.500000</td>\n",
       "      <td>1.266273</td>\n",
       "      <td>0.410959</td>\n",
       "      <td>3.725102</td>\n",
       "      <td>0.051029</td>\n",
       "      <td>12</td>\n",
       "      <td>73</td>\n",
       "    </tr>\n",
       "    <tr>\n",
       "      <th>1654</th>\n",
       "      <td>400986609</td>\n",
       "      <td>Austin Peay</td>\n",
       "      <td>2.736346</td>\n",
       "      <td>0.473684</td>\n",
       "      <td>19.020855</td>\n",
       "      <td>1.001098</td>\n",
       "      <td>0.782975</td>\n",
       "      <td>0.395349</td>\n",
       "      <td>-1.269652</td>\n",
       "      <td>-0.029527</td>\n",
       "      <td>...</td>\n",
       "      <td>104</td>\n",
       "      <td>2.971429</td>\n",
       "      <td>0.142857</td>\n",
       "      <td>0.714286</td>\n",
       "      <td>1.158331</td>\n",
       "      <td>0.602941</td>\n",
       "      <td>33.112302</td>\n",
       "      <td>0.486946</td>\n",
       "      <td>10</td>\n",
       "      <td>68</td>\n",
       "    </tr>\n",
       "    <tr>\n",
       "      <th>1655</th>\n",
       "      <td>400986609</td>\n",
       "      <td>UCF</td>\n",
       "      <td>1.338695</td>\n",
       "      <td>0.656250</td>\n",
       "      <td>20.538806</td>\n",
       "      <td>0.641838</td>\n",
       "      <td>1.076980</td>\n",
       "      <td>0.542857</td>\n",
       "      <td>13.657150</td>\n",
       "      <td>0.390204</td>\n",
       "      <td>...</td>\n",
       "      <td>93</td>\n",
       "      <td>2.162791</td>\n",
       "      <td>0.279070</td>\n",
       "      <td>0.857143</td>\n",
       "      <td>1.459142</td>\n",
       "      <td>0.419355</td>\n",
       "      <td>17.751203</td>\n",
       "      <td>0.286310</td>\n",
       "      <td>12</td>\n",
       "      <td>62</td>\n",
       "    </tr>\n",
       "    <tr>\n",
       "      <th>1656</th>\n",
       "      <td>401000149</td>\n",
       "      <td>Florida State</td>\n",
       "      <td>1.251696</td>\n",
       "      <td>0.565217</td>\n",
       "      <td>5.930921</td>\n",
       "      <td>0.257866</td>\n",
       "      <td>1.232511</td>\n",
       "      <td>0.555556</td>\n",
       "      <td>23.388142</td>\n",
       "      <td>0.519736</td>\n",
       "      <td>...</td>\n",
       "      <td>30</td>\n",
       "      <td>1.510000</td>\n",
       "      <td>0.350000</td>\n",
       "      <td>0.333333</td>\n",
       "      <td>1.349138</td>\n",
       "      <td>0.328571</td>\n",
       "      <td>-0.089833</td>\n",
       "      <td>-0.001283</td>\n",
       "      <td>11</td>\n",
       "      <td>70</td>\n",
       "    </tr>\n",
       "    <tr>\n",
       "      <th>1657</th>\n",
       "      <td>401000149</td>\n",
       "      <td>UL Monroe</td>\n",
       "      <td>1.544900</td>\n",
       "      <td>0.367347</td>\n",
       "      <td>6.337380</td>\n",
       "      <td>0.129334</td>\n",
       "      <td>0.930598</td>\n",
       "      <td>0.200000</td>\n",
       "      <td>-5.926791</td>\n",
       "      <td>-0.296340</td>\n",
       "      <td>...</td>\n",
       "      <td>165</td>\n",
       "      <td>3.660000</td>\n",
       "      <td>0.133333</td>\n",
       "      <td>0.857143</td>\n",
       "      <td>1.239074</td>\n",
       "      <td>0.558824</td>\n",
       "      <td>29.319062</td>\n",
       "      <td>0.431163</td>\n",
       "      <td>11</td>\n",
       "      <td>68</td>\n",
       "    </tr>\n",
       "  </tbody>\n",
       "</table>\n",
       "<p>6 rows × 58 columns</p>\n",
       "</div>"
      ],
      "text/plain": [
       "        game_id           team  off_passingPlays_explosiveness  \\\n",
       "1652  400985406        Memphis                        1.314514   \n",
       "1653  400985406            UCF                        1.757090   \n",
       "1654  400986609    Austin Peay                        2.736346   \n",
       "1655  400986609            UCF                        1.338695   \n",
       "1656  401000149  Florida State                        1.251696   \n",
       "1657  401000149      UL Monroe                        1.544900   \n",
       "\n",
       "      off_passingPlays_successRate  off_passingPlays_totalPPA  \\\n",
       "1652                      0.392157                   1.621516   \n",
       "1653                      0.419355                  10.504720   \n",
       "1654                      0.473684                  19.020855   \n",
       "1655                      0.656250                  20.538806   \n",
       "1656                      0.565217                   5.930921   \n",
       "1657                      0.367347                   6.337380   \n",
       "\n",
       "      off_passingPlays_ppa  off_rushingPlays_explosiveness  \\\n",
       "1652              0.031794                        1.169791   \n",
       "1653              0.338862                        1.504505   \n",
       "1654              1.001098                        0.782975   \n",
       "1655              0.641838                        1.076980   \n",
       "1656              0.257866                        1.232511   \n",
       "1657              0.129334                        0.930598   \n",
       "\n",
       "      off_rushingPlays_successRate  off_rushingPlays_totalPPA  \\\n",
       "1652                      0.454545                   2.103586   \n",
       "1653                      0.428571                  13.791699   \n",
       "1654                      0.395349                  -1.269652   \n",
       "1655                      0.542857                  13.657150   \n",
       "1656                      0.555556                  23.388142   \n",
       "1657                      0.200000                  -5.926791   \n",
       "\n",
       "      off_rushingPlays_ppa  ...  def_lineYardsTotal  def_lineYards  \\\n",
       "1652              0.095618  ...                 145       2.959184   \n",
       "1653              0.281463  ...                  50       2.268182   \n",
       "1654             -0.029527  ...                 104       2.971429   \n",
       "1655              0.390204  ...                  93       2.162791   \n",
       "1656              0.519736  ...                  30       1.510000   \n",
       "1657             -0.296340  ...                 165       3.660000   \n",
       "\n",
       "      def_stuffRate  def_powerSuccess  def_explosiveness  def_successRate  \\\n",
       "1652       0.224490          0.666667           1.492944         0.439024   \n",
       "1653       0.272727          0.500000           1.266273         0.410959   \n",
       "1654       0.142857          0.714286           1.158331         0.602941   \n",
       "1655       0.279070          0.857143           1.459142         0.419355   \n",
       "1656       0.350000          0.333333           1.349138         0.328571   \n",
       "1657       0.133333          0.857143           1.239074         0.558824   \n",
       "\n",
       "      def_totalPPA   def_ppa  def_drives  def_plays  \n",
       "1652     23.605613  0.287873          13         82  \n",
       "1653      3.725102  0.051029          12         73  \n",
       "1654     33.112302  0.486946          10         68  \n",
       "1655     17.751203  0.286310          12         62  \n",
       "1656     -0.089833 -0.001283          11         70  \n",
       "1657     29.319062  0.431163          11         68  \n",
       "\n",
       "[6 rows x 58 columns]"
      ]
     },
     "execution_count": 15,
     "metadata": {},
     "output_type": "execute_result"
    }
   ],
   "source": [
    "df_a.tail(6)"
   ]
  },
  {
   "cell_type": "code",
   "execution_count": 14,
   "id": "abc7a6ef-db66-455b-985a-2d92fe0e197f",
   "metadata": {},
   "outputs": [
    {
     "ename": "TypeError",
     "evalue": "object of type 'int' has no len()",
     "output_type": "error",
     "traceback": [
      "\u001b[31m---------------------------------------------------------------------------\u001b[39m",
      "\u001b[31mTypeError\u001b[39m                                 Traceback (most recent call last)",
      "\u001b[36mCell\u001b[39m\u001b[36m \u001b[39m\u001b[32mIn[14]\u001b[39m\u001b[32m, line 4\u001b[39m\n\u001b[32m      2\u001b[39m \u001b[38;5;28;01mfor\u001b[39;00m val \u001b[38;5;129;01min\u001b[39;00m df_a[\u001b[33m'\u001b[39m\u001b[33mgame_id\u001b[39m\u001b[33m'\u001b[39m]:\n\u001b[32m      3\u001b[39m     \u001b[38;5;28;01mif\u001b[39;00m val \u001b[38;5;129;01mnot\u001b[39;00m \u001b[38;5;129;01min\u001b[39;00m df_b[\u001b[33m'\u001b[39m\u001b[33mgame_id\u001b[39m\u001b[33m'\u001b[39m]:\n\u001b[32m----> \u001b[39m\u001b[32m4\u001b[39m         \u001b[38;5;28mprint\u001b[39m(\u001b[38;5;28;43mlen\u001b[39;49m\u001b[43m(\u001b[49m\u001b[43mval\u001b[49m\u001b[43m)\u001b[49m)\n",
      "\u001b[31mTypeError\u001b[39m: object of type 'int' has no len()"
     ]
    }
   ],
   "source": [
    "diff = []\n",
    "for val in df_a['game_id']:\n",
    "    if val not in df_b['game_id']:\n",
    "        diff.append(val)\n",
    "    "
   ]
  },
  {
   "cell_type": "code",
   "execution_count": 3,
   "id": "83903d8d-7fef-4edb-9593-d4387e549d4e",
   "metadata": {},
   "outputs": [
    {
     "data": {
      "text/plain": [
       "Index(['game_id', 'team', 'defensiveTDs', 'firstDowns', 'fumblesLost',\n",
       "       'fumblesRecovered', 'interceptionTDs', 'interceptionYards',\n",
       "       'interceptions', 'kickReturnTDs', 'kickReturnYards', 'kickReturns',\n",
       "       'kickingPoints', 'netPassingYards', 'passesDeflected',\n",
       "       'passesIntercepted', 'passingTDs', 'puntReturnTDs', 'puntReturnYards',\n",
       "       'puntReturns', 'qbHurries', 'rushingAttempts', 'rushingTDs',\n",
       "       'rushingYards', 'sacks', 'tackles', 'tacklesForLoss', 'totalFumbles',\n",
       "       'totalYards', 'turnovers', 'yardsPerPass', 'yardsPerRushAttempt',\n",
       "       'team_conference'],\n",
       "      dtype='object')"
      ]
     },
     "execution_count": 3,
     "metadata": {},
     "output_type": "execute_result"
    }
   ],
   "source": [
    "df_b.columns\n"
   ]
  },
  {
   "cell_type": "code",
   "execution_count": 5,
   "id": "cb1f72fe-441d-46f0-849e-389815365937",
   "metadata": {},
   "outputs": [
    {
     "data": {
      "text/plain": [
       "Index(['game_id', 'team', 'off_passingPlays_explosiveness',\n",
       "       'off_passingPlays_successRate', 'off_passingPlays_totalPPA',\n",
       "       'off_passingPlays_ppa', 'off_rushingPlays_explosiveness',\n",
       "       'off_rushingPlays_successRate', 'off_rushingPlays_totalPPA',\n",
       "       'off_rushingPlays_ppa', 'off_passingDowns_explosiveness',\n",
       "       'off_passingDowns_successRate', 'off_passingDowns_ppa',\n",
       "       'off_standardDowns_explosiveness', 'off_standardDowns_successRate',\n",
       "       'off_standardDowns_ppa', 'off_openFieldYardsTotal',\n",
       "       'off_openFieldYards', 'off_secondLevelYardsTotal',\n",
       "       'off_secondLevelYards', 'off_lineYardsTotal', 'off_lineYards',\n",
       "       'off_stuffRate', 'off_powerSuccess', 'off_explosiveness',\n",
       "       'off_successRate', 'off_totalPPA', 'off_ppa', 'off_drives', 'off_plays',\n",
       "       'def_passingPlays_explosiveness', 'def_passingPlays_successRate',\n",
       "       'def_passingPlays_totalPPA', 'def_passingPlays_ppa',\n",
       "       'def_rushingPlays_explosiveness', 'def_rushingPlays_successRate',\n",
       "       'def_rushingPlays_totalPPA', 'def_rushingPlays_ppa',\n",
       "       'def_passingDowns_explosiveness', 'def_passingDowns_successRate',\n",
       "       'def_passingDowns_ppa', 'def_standardDowns_explosiveness',\n",
       "       'def_standardDowns_successRate', 'def_standardDowns_ppa',\n",
       "       'def_openFieldYardsTotal', 'def_openFieldYards',\n",
       "       'def_secondLevelYardsTotal', 'def_secondLevelYards',\n",
       "       'def_lineYardsTotal', 'def_lineYards', 'def_stuffRate',\n",
       "       'def_powerSuccess', 'def_explosiveness', 'def_successRate',\n",
       "       'def_totalPPA', 'def_ppa', 'def_drives', 'def_plays'],\n",
       "      dtype='object')"
      ]
     },
     "execution_count": 5,
     "metadata": {},
     "output_type": "execute_result"
    }
   ],
   "source": [
    "df_a.columns"
   ]
  },
  {
   "cell_type": "code",
   "execution_count": 3,
   "id": "e6e21ef1-9787-47b9-976a-d4ac8f2f2218",
   "metadata": {},
   "outputs": [
    {
     "name": "stderr",
     "output_type": "stream",
     "text": [
      "usage: ipykernel_launcher.py [-h] --year YEAR\n",
      "                             [--season {regular,postseason,both}]\n",
      "ipykernel_launcher.py: error: the following arguments are required: --year\n"
     ]
    },
    {
     "ename": "SystemExit",
     "evalue": "2",
     "output_type": "error",
     "traceback": [
      "An exception has occurred, use %tb to see the full traceback.\n",
      "\u001b[31mSystemExit\u001b[39m\u001b[31m:\u001b[39m 2\n"
     ]
    },
    {
     "name": "stderr",
     "output_type": "stream",
     "text": [
      "/home/robert-dwyer/miniconda3/envs/venv_who_covers/lib/python3.11/site-packages/IPython/core/interactiveshell.py:3707: UserWarning: To exit: use 'exit', 'quit', or Ctrl-D.\n",
      "  warn(\"To exit: use 'exit', 'quit', or Ctrl-D.\", stacklevel=1)\n"
     ]
    }
   ],
   "source": [
    "import argparse\n",
    "from who_covers.cfbd_client import get_apis\n",
    "from who_covers.io import raw_path, save_parquet\n",
    "from who_covers.flatten_advanced import flatten_advanced_team_game_stats\n",
    "\n",
    "\n",
    "\n",
    "def main():\n",
    "    ap = argparse.ArgumentParser()\n",
    "    ap.add_argument(\"--year\", type=int, required=True)\n",
    "    ap.add_argument(\"--season\", default=\"regular\", choices=[\"regular\",\"postseason\",\"both\"])\n",
    "    args = ap.parse_args()\n",
    "\n",
    "    apis = get_apis()\n",
    "    recs = apis[\"stats\"].get_advanced_team_game_stats(year=args.year, season_type=args.season)\n",
    "    df = flatten_advanced_team_game_stats(recs)\n",
    "\n",
    "    out = raw_path(f\"advanced_{args.year}_{args.season}.parquet\")\n",
    "    save_parquet(df, out)\n",
    "    print(f\"Saved advanced team-game stats ({len(df)}) -> {out}\")\n",
    "\n",
    "if __name__ == \"__main__\":\n",
    "    main()"
   ]
  },
  {
   "cell_type": "code",
   "execution_count": 4,
   "id": "786b8a39-f467-4f62-a9fb-78b1d8e35d3e",
   "metadata": {},
   "outputs": [],
   "source": [
    "import argparse\n",
    "from who_covers.cfbd_client import get_apis\n",
    "from who_covers.io import raw_path, save_parquet\n",
    "from who_covers.flatten_advanced import flatten_advanced_team_game_stats"
   ]
  },
  {
   "cell_type": "code",
   "execution_count": 5,
   "id": "b459b3ed-1bf5-4df6-9a38-9ef4c2d64df8",
   "metadata": {},
   "outputs": [
    {
     "name": "stderr",
     "output_type": "stream",
     "text": [
      "usage: ipykernel_launcher.py [-h] --year YEAR\n",
      "                             [--season {regular,postseaosn,both}]\n",
      "ipykernel_launcher.py: error: the following arguments are required: --year\n"
     ]
    },
    {
     "ename": "SystemExit",
     "evalue": "2",
     "output_type": "error",
     "traceback": [
      "An exception has occurred, use %tb to see the full traceback.\n",
      "\u001b[31mSystemExit\u001b[39m\u001b[31m:\u001b[39m 2\n"
     ]
    },
    {
     "name": "stderr",
     "output_type": "stream",
     "text": [
      "/home/robert-dwyer/miniconda3/envs/venv_who_covers/lib/python3.11/site-packages/IPython/core/interactiveshell.py:3707: UserWarning: To exit: use 'exit', 'quit', or Ctrl-D.\n",
      "  warn(\"To exit: use 'exit', 'quit', or Ctrl-D.\", stacklevel=1)\n"
     ]
    }
   ],
   "source": [
    "ap = argparse.ArgumentParser()\n",
    "ap.add_argument(\"--year\", type=int, required=True)\n",
    "ap.add_argument(\"--season\", default=\"regular\", choices=[\"regular\",\"postseaosn\",\"both\"])\n",
    "args = ap.parse_args()\n",
    "apis = get_apis()\n",
    "print(args)"
   ]
  },
  {
   "cell_type": "code",
   "execution_count": 3,
   "id": "471cfd53-2ab0-41b4-a7be-c4e1e8aeed7f",
   "metadata": {},
   "outputs": [],
   "source": [
    "def flatten_basic_team_game_stats(records) -> pd.DataFrame:\n",
    "    \"\"\"Return long DF: (game_id, team, team_conference, stat_name, value)\"\"\"\n",
    "    out = []\n",
    "    for row in records:\n",
    "        game_id = row.game_id\n",
    "        team = row.team\n",
    "        conf = getattr(row, \"conference\", None)\n",
    "        for cat in (row.categories or []):\n",
    "            for stat in getattr(cat, \"types\", []) or []:\n",
    "                name = getattr(stat, \"stat\", None)\n",
    "                val = getattr(stat, \"stat_value\", None)\n",
    "                if name is None:\n",
    "                    continue\n",
    "                out.append({\n",
    "                    \"game_id\": game_id,\n",
    "                    \"team\": team,\n",
    "                    \"team_conference\": conf,\n",
    "                    \"stat_name\": name,\n",
    "                    \"value\": pd.to_numeric(val, errors=\"coerce\"),\n",
    "                })\n",
    "    return pd.DataFrame(out)\n",
    "\n",
    "def pivot_basic(long_df: pd.DataFrame) -> pd.DataFrame:\n",
    "    return (long_df\n",
    "            .pivot_table(index=[\"game_id\", \"team\"], columns=\"stat_name\",\n",
    "                         values=\"value\", aggfunc=\"first\")\n",
    "            .reset_index())"
   ]
  },
  {
   "cell_type": "code",
   "execution_count": 4,
   "id": "12b864ce-7092-48a1-8ec5-04f36db2a05a",
   "metadata": {},
   "outputs": [
    {
     "ename": "AttributeError",
     "evalue": "'str' object has no attribute 'game_id'",
     "output_type": "error",
     "traceback": [
      "\u001b[31m---------------------------------------------------------------------------\u001b[39m",
      "\u001b[31mAttributeError\u001b[39m                            Traceback (most recent call last)",
      "\u001b[36mCell\u001b[39m\u001b[36m \u001b[39m\u001b[32mIn[4]\u001b[39m\u001b[32m, line 1\u001b[39m\n\u001b[32m----> \u001b[39m\u001b[32m1\u001b[39m \u001b[43mflatten_basic_team_game_stats\u001b[49m\u001b[43m(\u001b[49m\u001b[43mdf\u001b[49m\u001b[43m)\u001b[49m\n",
      "\u001b[36mCell\u001b[39m\u001b[36m \u001b[39m\u001b[32mIn[3]\u001b[39m\u001b[32m, line 5\u001b[39m, in \u001b[36mflatten_basic_team_game_stats\u001b[39m\u001b[34m(records)\u001b[39m\n\u001b[32m      3\u001b[39m out = []\n\u001b[32m      4\u001b[39m \u001b[38;5;28;01mfor\u001b[39;00m row \u001b[38;5;129;01min\u001b[39;00m records:\n\u001b[32m----> \u001b[39m\u001b[32m5\u001b[39m     game_id = \u001b[43mrow\u001b[49m\u001b[43m.\u001b[49m\u001b[43mgame_id\u001b[49m\n\u001b[32m      6\u001b[39m     team = row.team\n\u001b[32m      7\u001b[39m     conf = \u001b[38;5;28mgetattr\u001b[39m(row, \u001b[33m\"\u001b[39m\u001b[33mconference\u001b[39m\u001b[33m\"\u001b[39m, \u001b[38;5;28;01mNone\u001b[39;00m)\n",
      "\u001b[31mAttributeError\u001b[39m: 'str' object has no attribute 'game_id'"
     ]
    }
   ],
   "source": [
    "flatten_basic_team_game_stats(df)"
   ]
  },
  {
   "cell_type": "code",
   "execution_count": 5,
   "id": "ae39954a-19ac-4d18-966a-7ab56fa0a2e1",
   "metadata": {},
   "outputs": [
    {
     "name": "stdout",
     "output_type": "stream",
     "text": [
      "game_id\n",
      "season\n",
      "week\n",
      "season_type\n",
      "conference_game\n",
      "neutral_site\n",
      "venue\n",
      "home_team\n",
      "home_points\n",
      "away_team\n",
      "away_points\n",
      "home_conference\n",
      "away_conference\n",
      "start_date\n"
     ]
    }
   ],
   "source": [
    "for row in df:\n",
    "    print(row)"
   ]
  },
  {
   "cell_type": "code",
   "execution_count": 6,
   "id": "59b5c694-697e-429f-a5bd-365524b8f35c",
   "metadata": {},
   "outputs": [
    {
     "data": {
      "text/plain": [
       "(1502, 14)"
      ]
     },
     "execution_count": 6,
     "metadata": {},
     "output_type": "execute_result"
    }
   ],
   "source": [
    "df.shape"
   ]
  },
  {
   "cell_type": "code",
   "execution_count": 8,
   "id": "4dd10b9b-3580-4292-9134-b367ad4c67bd",
   "metadata": {},
   "outputs": [
    {
     "data": {
      "text/html": [
       "<div>\n",
       "<style scoped>\n",
       "    .dataframe tbody tr th:only-of-type {\n",
       "        vertical-align: middle;\n",
       "    }\n",
       "\n",
       "    .dataframe tbody tr th {\n",
       "        vertical-align: top;\n",
       "    }\n",
       "\n",
       "    .dataframe thead th {\n",
       "        text-align: right;\n",
       "    }\n",
       "</style>\n",
       "<table border=\"1\" class=\"dataframe\">\n",
       "  <thead>\n",
       "    <tr style=\"text-align: right;\">\n",
       "      <th></th>\n",
       "      <th>game_id</th>\n",
       "      <th>season</th>\n",
       "      <th>week</th>\n",
       "      <th>home_points</th>\n",
       "      <th>away_points</th>\n",
       "    </tr>\n",
       "  </thead>\n",
       "  <tbody>\n",
       "    <tr>\n",
       "      <th>count</th>\n",
       "      <td>1.502000e+03</td>\n",
       "      <td>1502.0</td>\n",
       "      <td>1502.000000</td>\n",
       "      <td>1502.000000</td>\n",
       "      <td>1502.000000</td>\n",
       "    </tr>\n",
       "    <tr>\n",
       "      <th>mean</th>\n",
       "      <td>4.008719e+08</td>\n",
       "      <td>2016.0</td>\n",
       "      <td>6.915446</td>\n",
       "      <td>31.418109</td>\n",
       "      <td>25.105193</td>\n",
       "    </tr>\n",
       "    <tr>\n",
       "      <th>std</th>\n",
       "      <td>8.681949e+03</td>\n",
       "      <td>0.0</td>\n",
       "      <td>3.817302</td>\n",
       "      <td>15.100186</td>\n",
       "      <td>14.356956</td>\n",
       "    </tr>\n",
       "    <tr>\n",
       "      <th>min</th>\n",
       "      <td>4.008689e+08</td>\n",
       "      <td>2016.0</td>\n",
       "      <td>1.000000</td>\n",
       "      <td>0.000000</td>\n",
       "      <td>0.000000</td>\n",
       "    </tr>\n",
       "    <tr>\n",
       "      <th>25%</th>\n",
       "      <td>4.008693e+08</td>\n",
       "      <td>2016.0</td>\n",
       "      <td>4.000000</td>\n",
       "      <td>21.000000</td>\n",
       "      <td>14.000000</td>\n",
       "    </tr>\n",
       "    <tr>\n",
       "      <th>50%</th>\n",
       "      <td>4.008697e+08</td>\n",
       "      <td>2016.0</td>\n",
       "      <td>7.000000</td>\n",
       "      <td>31.000000</td>\n",
       "      <td>24.000000</td>\n",
       "    </tr>\n",
       "    <tr>\n",
       "      <th>75%</th>\n",
       "      <td>4.008727e+08</td>\n",
       "      <td>2016.0</td>\n",
       "      <td>10.000000</td>\n",
       "      <td>42.000000</td>\n",
       "      <td>35.000000</td>\n",
       "    </tr>\n",
       "    <tr>\n",
       "      <th>max</th>\n",
       "      <td>4.009281e+08</td>\n",
       "      <td>2016.0</td>\n",
       "      <td>15.000000</td>\n",
       "      <td>84.000000</td>\n",
       "      <td>78.000000</td>\n",
       "    </tr>\n",
       "  </tbody>\n",
       "</table>\n",
       "</div>"
      ],
      "text/plain": [
       "            game_id  season         week  home_points  away_points\n",
       "count  1.502000e+03  1502.0  1502.000000  1502.000000  1502.000000\n",
       "mean   4.008719e+08  2016.0     6.915446    31.418109    25.105193\n",
       "std    8.681949e+03     0.0     3.817302    15.100186    14.356956\n",
       "min    4.008689e+08  2016.0     1.000000     0.000000     0.000000\n",
       "25%    4.008693e+08  2016.0     4.000000    21.000000    14.000000\n",
       "50%    4.008697e+08  2016.0     7.000000    31.000000    24.000000\n",
       "75%    4.008727e+08  2016.0    10.000000    42.000000    35.000000\n",
       "max    4.009281e+08  2016.0    15.000000    84.000000    78.000000"
      ]
     },
     "execution_count": 8,
     "metadata": {},
     "output_type": "execute_result"
    }
   ],
   "source": [
    "df.describe()"
   ]
  },
  {
   "cell_type": "code",
   "execution_count": 9,
   "id": "e6ef7c5e-76ff-4b2e-a555-38d5d6f4d9fd",
   "metadata": {},
   "outputs": [
    {
     "data": {
      "text/plain": [
       "Index(['game_id', 'season', 'week', 'season_type', 'conference_game',\n",
       "       'neutral_site', 'venue', 'home_team', 'home_points', 'away_team',\n",
       "       'away_points', 'home_conference', 'away_conference', 'start_date'],\n",
       "      dtype='object')"
      ]
     },
     "execution_count": 9,
     "metadata": {},
     "output_type": "execute_result"
    }
   ],
   "source": [
    "df.columns"
   ]
  },
  {
   "cell_type": "code",
   "execution_count": 13,
   "id": "61ecd21c-5aa9-4e9f-aab3-d7bdc17e1574",
   "metadata": {},
   "outputs": [
    {
     "data": {
      "text/plain": [
       "0               California\n",
       "1       North Dakota State\n",
       "2                   Wagner\n",
       "3               Louisville\n",
       "4              Stony Brook\n",
       "               ...        \n",
       "1497         James Madison\n",
       "1498    North Dakota State\n",
       "1499      Youngstown State\n",
       "1500                  Army\n",
       "1501    Eastern Washington\n",
       "Name: home_team, Length: 1502, dtype: object"
      ]
     },
     "execution_count": 13,
     "metadata": {},
     "output_type": "execute_result"
    }
   ],
   "source": [
    "team_lst=[]\n",
    "for team in df['home_team']:\n",
    "    team_lst.append("
   ]
  },
  {
   "cell_type": "code",
   "execution_count": null,
   "id": "6118c41e-17a3-4415-8b0c-515146339fb1",
   "metadata": {},
   "outputs": [],
   "source": [
    "df"
   ]
  }
 ],
 "metadata": {
  "kernelspec": {
   "display_name": "venv_who_covers",
   "language": "python",
   "name": "python3"
  },
  "language_info": {
   "codemirror_mode": {
    "name": "ipython",
    "version": 3
   },
   "file_extension": ".py",
   "mimetype": "text/x-python",
   "name": "python",
   "nbconvert_exporter": "python",
   "pygments_lexer": "ipython3",
   "version": "3.11.10"
  }
 },
 "nbformat": 4,
 "nbformat_minor": 5
}
